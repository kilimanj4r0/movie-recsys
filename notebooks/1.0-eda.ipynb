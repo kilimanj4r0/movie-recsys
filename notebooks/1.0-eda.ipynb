{
 "cells": [
  {
   "cell_type": "markdown",
   "metadata": {},
   "source": [
    "# Exploratory Data Analysis"
   ]
  },
  {
   "cell_type": "code",
   "execution_count": 1,
   "metadata": {},
   "outputs": [],
   "source": [
    "data_dir = '../data/raw/'"
   ]
  },
  {
   "cell_type": "code",
   "execution_count": 6,
   "metadata": {},
   "outputs": [
    {
     "name": "stdout",
     "output_type": "stream",
     "text": [
      "<class 'pandas.core.frame.DataFrame'>\n",
      "RangeIndex: 100000 entries, 0 to 99999\n",
      "Data columns (total 4 columns):\n",
      " #   Column     Non-Null Count   Dtype \n",
      "---  ------     --------------   ----- \n",
      " 0   user_id    100000 non-null  int32 \n",
      " 1   item_id    100000 non-null  int32 \n",
      " 2   rating     100000 non-null  int32 \n",
      " 3   timestamp  100000 non-null  object\n",
      "dtypes: int32(3), object(1)\n",
      "memory usage: 1.9+ MB\n"
     ]
    },
    {
     "name": "stderr",
     "output_type": "stream",
     "text": [
      "C:\\Users\\newro\\AppData\\Local\\Temp\\ipykernel_9448\\2485261898.py:6: UserWarning: Could not infer format, so each element will be parsed individually, falling back to `dateutil`. To ensure parsing is consistent and as-expected, please specify a format.\n",
      "  df = pd.read_csv(\n"
     ]
    },
    {
     "data": {
      "text/plain": [
       "(   user_id  item_id  rating  timestamp\n",
       " 0      196      242       3  881250949\n",
       " 1      186      302       3  891717742\n",
       " 2       22      377       1  878887116\n",
       " 3      244       51       2  880606923\n",
       " 4      166      346       1  886397596,\n",
       " None)"
      ]
     },
     "execution_count": 6,
     "metadata": {},
     "output_type": "execute_result"
    }
   ],
   "source": [
    "import pandas as pd\n",
    "\n",
    "\n",
    "column_names = ['user_id', 'item_id', 'rating', 'timestamp']\n",
    "\n",
    "df = pd.read_csv(\n",
    "    data_dir + 'u.data',\n",
    "    sep='\\t',\n",
    "    names=column_names,\n",
    "    dtype={'user_id': int, 'item_id': int, 'rating': int},\n",
    "    parse_dates=['timestamp']\n",
    ")\n",
    "\n",
    "df.head(), df.info()"
   ]
  },
  {
   "cell_type": "code",
   "execution_count": 7,
   "metadata": {},
   "outputs": [
    {
     "name": "stdout",
     "output_type": "stream",
     "text": [
      "u.data:\n",
      "   user_id  item_id  rating  timestamp\n",
      "0      196      242       3  881250949\n",
      "1      186      302       3  891717742\n",
      "2       22      377       1  878887116\n",
      "3      244       51       2  880606923\n",
      "4      166      346       1  886397596\n",
      "\n",
      "Descriptive statistics for u.data:\n",
      "            user_id        item_id         rating     timestamp\n",
      "count  100000.00000  100000.000000  100000.000000  1.000000e+05\n",
      "mean      462.48475     425.530130       3.529860  8.835289e+08\n",
      "std       266.61442     330.798356       1.125674  5.343856e+06\n",
      "min         1.00000       1.000000       1.000000  8.747247e+08\n",
      "25%       254.00000     175.000000       3.000000  8.794487e+08\n",
      "50%       447.00000     322.000000       4.000000  8.828269e+08\n",
      "75%       682.00000     631.000000       4.000000  8.882600e+08\n",
      "max       943.00000    1682.000000       5.000000  8.932866e+08\n",
      "\n",
      "u.info:\n",
      "             info\n",
      "0       943 users\n",
      "1      1682 items\n",
      "2  100000 ratings\n",
      "\n",
      "u.item:\n",
      "   movie_id        movie_title release_date  video_release_date  \\\n",
      "0         1   Toy Story (1995)  01-Jan-1995                 NaN   \n",
      "1         2   GoldenEye (1995)  01-Jan-1995                 NaN   \n",
      "2         3  Four Rooms (1995)  01-Jan-1995                 NaN   \n",
      "3         4  Get Shorty (1995)  01-Jan-1995                 NaN   \n",
      "4         5     Copycat (1995)  01-Jan-1995                 NaN   \n",
      "\n",
      "                                            IMDB_URL  unknown  Action  \\\n",
      "0  http://us.imdb.com/M/title-exact?Toy%20Story%2...        0       0   \n",
      "1  http://us.imdb.com/M/title-exact?GoldenEye%20(...        0       1   \n",
      "2  http://us.imdb.com/M/title-exact?Four%20Rooms%...        0       0   \n",
      "3  http://us.imdb.com/M/title-exact?Get%20Shorty%...        0       1   \n",
      "4  http://us.imdb.com/M/title-exact?Copycat%20(1995)        0       0   \n",
      "\n",
      "   Adventure  Animation  Children  ...  Fantasy  Film-Noir  Horror  Musical  \\\n",
      "0          0          1         1  ...        0          0       0        0   \n",
      "1          1          0         0  ...        0          0       0        0   \n",
      "2          0          0         0  ...        0          0       0        0   \n",
      "3          0          0         0  ...        0          0       0        0   \n",
      "4          0          0         0  ...        0          0       0        0   \n",
      "\n",
      "   Mystery  Romance  Sci-Fi  Thriller  War  Western  \n",
      "0        0        0       0         0    0        0  \n",
      "1        0        0       0         1    0        0  \n",
      "2        0        0       0         1    0        0  \n",
      "3        0        0       0         0    0        0  \n",
      "4        0        0       0         1    0        0  \n",
      "\n",
      "[5 rows x 24 columns]\n",
      "\n",
      "Descriptive statistics for u.item:\n",
      "          movie_id  video_release_date      unknown       Action    Adventure  \\\n",
      "count  1682.000000                 0.0  1682.000000  1682.000000  1682.000000   \n",
      "mean    841.500000                 NaN     0.001189     0.149227     0.080262   \n",
      "std     485.695893                 NaN     0.034473     0.356418     0.271779   \n",
      "min       1.000000                 NaN     0.000000     0.000000     0.000000   \n",
      "25%     421.250000                 NaN     0.000000     0.000000     0.000000   \n",
      "50%     841.500000                 NaN     0.000000     0.000000     0.000000   \n",
      "75%    1261.750000                 NaN     0.000000     0.000000     0.000000   \n",
      "max    1682.000000                 NaN     1.000000     1.000000     1.000000   \n",
      "\n",
      "         Animation     Children       Comedy        Crime  Documentary  ...  \\\n",
      "count  1682.000000  1682.000000  1682.000000  1682.000000  1682.000000  ...   \n",
      "mean      0.024970     0.072533     0.300238     0.064804     0.029727  ...   \n",
      "std       0.156081     0.259445     0.458498     0.246253     0.169882  ...   \n",
      "min       0.000000     0.000000     0.000000     0.000000     0.000000  ...   \n",
      "25%       0.000000     0.000000     0.000000     0.000000     0.000000  ...   \n",
      "50%       0.000000     0.000000     0.000000     0.000000     0.000000  ...   \n",
      "75%       0.000000     0.000000     1.000000     0.000000     0.000000  ...   \n",
      "max       1.000000     1.000000     1.000000     1.000000     1.000000  ...   \n",
      "\n",
      "          Fantasy    Film-Noir       Horror      Musical      Mystery  \\\n",
      "count  1682.00000  1682.000000  1682.000000  1682.000000  1682.000000   \n",
      "mean      0.01308     0.014269     0.054697     0.033294     0.036266   \n",
      "std       0.11365     0.118632     0.227455     0.179456     0.187008   \n",
      "min       0.00000     0.000000     0.000000     0.000000     0.000000   \n",
      "25%       0.00000     0.000000     0.000000     0.000000     0.000000   \n",
      "50%       0.00000     0.000000     0.000000     0.000000     0.000000   \n",
      "75%       0.00000     0.000000     0.000000     0.000000     0.000000   \n",
      "max       1.00000     1.000000     1.000000     1.000000     1.000000   \n",
      "\n",
      "           Romance       Sci-Fi     Thriller          War      Western  \n",
      "count  1682.000000  1682.000000  1682.000000  1682.000000  1682.000000  \n",
      "mean      0.146849     0.060048     0.149227     0.042212     0.016052  \n",
      "std       0.354061     0.237646     0.356418     0.201131     0.125714  \n",
      "min       0.000000     0.000000     0.000000     0.000000     0.000000  \n",
      "25%       0.000000     0.000000     0.000000     0.000000     0.000000  \n",
      "50%       0.000000     0.000000     0.000000     0.000000     0.000000  \n",
      "75%       0.000000     0.000000     0.000000     0.000000     0.000000  \n",
      "max       1.000000     1.000000     1.000000     1.000000     1.000000  \n",
      "\n",
      "[8 rows x 21 columns]\n",
      "\n",
      "u.genre:\n",
      "             genre\n",
      "unknown          0\n",
      "Action           1\n",
      "Adventure        2\n",
      "Animation        3\n",
      "Children's       4\n",
      "Comedy           5\n",
      "Crime            6\n",
      "Documentary      7\n",
      "Drama            8\n",
      "Fantasy          9\n",
      "Film-Noir       10\n",
      "Horror          11\n",
      "Musical         12\n",
      "Mystery         13\n",
      "Romance         14\n",
      "Sci-Fi          15\n",
      "Thriller        16\n",
      "War             17\n",
      "Western         18\n",
      "\n",
      "u.user:\n",
      "   user_id  age gender  occupation zip_code\n",
      "0        1   24      M  technician    85711\n",
      "1        2   53      F       other    94043\n",
      "2        3   23      M      writer    32067\n",
      "3        4   24      M  technician    43537\n",
      "4        5   33      F       other    15213\n",
      "\n",
      "Descriptive statistics for u.user:\n",
      "          user_id         age\n",
      "count  943.000000  943.000000\n",
      "mean   472.000000   34.051962\n",
      "std    272.364951   12.192740\n",
      "min      1.000000    7.000000\n",
      "25%    236.500000   25.000000\n",
      "50%    472.000000   31.000000\n",
      "75%    707.500000   43.000000\n",
      "max    943.000000   73.000000\n",
      "\n",
      "u.occupation:\n",
      "       occupation\n",
      "0   administrator\n",
      "1          artist\n",
      "2          doctor\n",
      "3        educator\n",
      "4        engineer\n",
      "5   entertainment\n",
      "6       executive\n",
      "7      healthcare\n",
      "8       homemaker\n",
      "9          lawyer\n",
      "10      librarian\n",
      "11      marketing\n",
      "12           none\n",
      "13          other\n",
      "14     programmer\n",
      "15        retired\n",
      "16       salesman\n",
      "17      scientist\n",
      "18        student\n",
      "19     technician\n",
      "20         writer\n"
     ]
    }
   ],
   "source": [
    "import pandas as pd\n",
    "\n",
    "\n",
    "# Set the file paths for each data file\n",
    "u_data_path = data_dir + 'u.data'\n",
    "u_info_path = data_dir + 'u.info'\n",
    "u_item_path = data_dir + 'u.item'\n",
    "u_genre_path = data_dir + 'u.genre'\n",
    "u_user_path = data_dir + 'u.user'\n",
    "u_occupation_path = data_dir + 'u.occupation'\n",
    "\n",
    "# Read data files into DataFrames\n",
    "u_data = pd.read_csv(u_data_path, sep='\\t', names=['user_id', 'item_id', 'rating', 'timestamp'])\n",
    "u_info = pd.read_csv(u_info_path, header=None, names=['info'])\n",
    "u_item = pd.read_csv(u_item_path, sep='|', encoding='latin-1', names=['movie_id', 'movie_title', 'release_date', 'video_release_date', 'IMDB_URL', 'unknown', 'Action', 'Adventure', 'Animation', 'Children', 'Comedy', 'Crime', 'Documentary', 'Drama', 'Fantasy', 'Film-Noir', 'Horror', 'Musical', 'Mystery', 'Romance', 'Sci-Fi', 'Thriller', 'War', 'Western'])\n",
    "u_genre = pd.read_csv(u_genre_path, sep='|', names=['genre'])\n",
    "u_user = pd.read_csv(u_user_path, sep='|', names=['user_id', 'age', 'gender', 'occupation', 'zip_code'])\n",
    "u_occupation = pd.read_csv(u_occupation_path, names=['occupation'])\n",
    "\n",
    "# Display basic insights for each dataset\n",
    "print(\"u.data:\")\n",
    "print(u_data.head())\n",
    "print(\"\\nDescriptive statistics for u.data:\")\n",
    "print(u_data.describe())\n",
    "print(\"\\nu.info:\")\n",
    "print(u_info)\n",
    "print(\"\\nu.item:\")\n",
    "print(u_item.head())\n",
    "print(\"\\nDescriptive statistics for u.item:\")\n",
    "print(u_item.describe())\n",
    "print(\"\\nu.genre:\")\n",
    "print(u_genre)\n",
    "print(\"\\nu.user:\")\n",
    "print(u_user.head())\n",
    "print(\"\\nDescriptive statistics for u.user:\")\n",
    "print(u_user.describe())\n",
    "print(\"\\nu.occupation:\")\n",
    "print(u_occupation)"
   ]
  },
  {
   "cell_type": "code",
   "execution_count": 11,
   "metadata": {},
   "outputs": [
    {
     "data": {
      "text/plain": [
       "71.04984093319194"
      ]
     },
     "execution_count": 11,
     "metadata": {},
     "output_type": "execute_result"
    }
   ],
   "source": [
    "male_count = u_user[u_user['gender'] == 'M'].shape[0]\n",
    "total_users = u_user.shape[0]\n",
    "\n",
    "(male_count / total_users) * 100"
   ]
  },
  {
   "cell_type": "code",
   "execution_count": 21,
   "metadata": {},
   "outputs": [
    {
     "name": "stdout",
     "output_type": "stream",
     "text": [
      "2.86%\ttechnician\n",
      "11.13%\tother\n",
      "4.77%\twriter\n",
      "3.39%\texecutive\n",
      "8.38%\tadministrator\n",
      "20.78%\tstudent\n",
      "1.27%\tlawyer\n",
      "10.07%\teducator\n",
      "3.29%\tscientist\n",
      "1.91%\tentertainment\n",
      "7.00%\tprogrammer\n",
      "5.41%\tlibrarian\n",
      "0.74%\thomemaker\n",
      "2.97%\tartist\n",
      "7.10%\tengineer\n",
      "2.76%\tmarketing\n",
      "0.95%\tnone\n",
      "1.70%\thealthcare\n",
      "1.48%\tretired\n",
      "1.27%\tsalesman\n",
      "0.74%\tdoctor\n"
     ]
    }
   ],
   "source": [
    "occupations = u_user.occupation.unique()\n",
    "total_users = u_user.shape[0]\n",
    "\n",
    "for o in occupations:\n",
    "    o_count = u_user[u_user.occupation == o].shape[0]\n",
    "    print(f'{(o_count / total_users) * 100:.2f}%\\t{o}')"
   ]
  },
  {
   "cell_type": "markdown",
   "metadata": {},
   "source": [
    "## Insights"
   ]
  },
  {
   "cell_type": "markdown",
   "metadata": {},
   "source": [
    "- Average rating score is 3.52\n",
    "- Top 1 genre is Comedy (30% of movies)\n",
    "- Least popular genre is Fantasy (1.3% of movies)\n",
    "- Average user age is 34 years old (ages from 7 to 73 years old are in the dataset)\n",
    "- Ratio of user gender is 71% / 29% for Male / Female\n",
    "- Student is the most popular occupation (20.7% of users)\n",
    "- Homemaker and Docter are least popular occupations (0.74% of users)"
   ]
  }
 ],
 "metadata": {
  "kernelspec": {
   "display_name": "base",
   "language": "python",
   "name": "python3"
  },
  "language_info": {
   "codemirror_mode": {
    "name": "ipython",
    "version": 3
   },
   "file_extension": ".py",
   "mimetype": "text/x-python",
   "name": "python",
   "nbconvert_exporter": "python",
   "pygments_lexer": "ipython3",
   "version": "3.11.5"
  }
 },
 "nbformat": 4,
 "nbformat_minor": 2
}
