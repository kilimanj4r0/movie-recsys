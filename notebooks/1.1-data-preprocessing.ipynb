{
 "cells": [
  {
   "cell_type": "markdown",
   "metadata": {},
   "source": [
    "# Data Preprocessing"
   ]
  },
  {
   "cell_type": "markdown",
   "metadata": {},
   "source": [
    "On this stage I do the following:\n",
    "\n",
    "1. Utilizing [RecTools framework](https://github.com/MobileTeleSystems/RecTools) convert data to appropriate format\n",
    "2. Using custom approach prepare data for it"
   ]
  },
  {
   "cell_type": "markdown",
   "metadata": {},
   "source": [
    "## Prepare data for RecTools format"
   ]
  },
  {
   "cell_type": "code",
   "execution_count": 45,
   "metadata": {},
   "outputs": [
    {
     "data": {
      "text/plain": [
       "['u1.base',\n",
       " 'u1.test',\n",
       " 'u2.base',\n",
       " 'u2.test',\n",
       " 'u3.base',\n",
       " 'u3.test',\n",
       " 'u4.base',\n",
       " 'u4.test',\n",
       " 'u5.base',\n",
       " 'u5.test',\n",
       " 'ua.base',\n",
       " 'ua.test',\n",
       " 'ub.base',\n",
       " 'ub.test']"
      ]
     },
     "execution_count": 45,
     "metadata": {},
     "output_type": "execute_result"
    }
   ],
   "source": [
    "data_raw_dir = '../data/raw/'\n",
    "data_interim_dir = '../data/interim/'\n",
    "data_filenames = [f'u{t}.{split}' for t in ['1', '2', '3', '4', '5', 'a', 'b'] for split in ['base', 'test']]\n",
    "data_filenames"
   ]
  },
  {
   "cell_type": "code",
   "execution_count": 49,
   "metadata": {},
   "outputs": [],
   "source": [
    "import pickle\n",
    "import pandas as pd\n",
    "from rectools import Columns\n",
    "from rectools.dataset import Dataset\n",
    "\n",
    "\n",
    "for filename in data_filenames:\n",
    "    df = pd.read_csv(\n",
    "        data_raw_dir + filename,\n",
    "        sep='\\t',\n",
    "        names=[*Columns.Interactions],\n",
    "        parse_dates=[Columns.Datetime]\n",
    "    )\n",
    "    df[Columns.Datetime] = pd.to_datetime(df[Columns.Datetime], unit='s')\n",
    "    df[Columns.Weight] = df[Columns.Weight].astype(float)\n",
    "\n",
    "    with open(data_interim_dir + filename + '.df.pickle', 'wb') as pickle_file:\n",
    "        pickle.dump(df, pickle_file)\n",
    "\n",
    "    dataset = Dataset.construct(df)\n",
    "\n",
    "    with open(data_interim_dir + filename + '.pickle', 'wb') as pickle_file:\n",
    "        pickle.dump(dataset, pickle_file)\n",
    "    "
   ]
  }
 ],
 "metadata": {
  "kernelspec": {
   "display_name": "base",
   "language": "python",
   "name": "python3"
  },
  "language_info": {
   "codemirror_mode": {
    "name": "ipython",
    "version": 3
   },
   "file_extension": ".py",
   "mimetype": "text/x-python",
   "name": "python",
   "nbconvert_exporter": "python",
   "pygments_lexer": "ipython3",
   "version": "3.10.13"
  }
 },
 "nbformat": 4,
 "nbformat_minor": 2
}
