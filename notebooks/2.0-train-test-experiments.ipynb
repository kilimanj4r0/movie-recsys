{
 "cells": [
  {
   "cell_type": "markdown",
   "metadata": {},
   "source": [
    "# Straightforward Training and Evaluation of Models using RecTools"
   ]
  },
  {
   "cell_type": "markdown",
   "metadata": {},
   "source": [
    "Here, I train and evaluate diffrent models on each split, using [RecTools models and metrics implementation](https://rectools.readthedocs.io/en/stable/features.html)."
   ]
  },
  {
   "cell_type": "markdown",
   "metadata": {},
   "source": [
    "## Data reading"
   ]
  },
  {
   "cell_type": "code",
   "execution_count": 10,
   "metadata": {},
   "outputs": [
    {
     "data": {
      "text/plain": [
       "['u1.base',\n",
       " 'u1.test',\n",
       " 'u2.base',\n",
       " 'u2.test',\n",
       " 'u3.base',\n",
       " 'u3.test',\n",
       " 'u4.base',\n",
       " 'u4.test',\n",
       " 'u5.base',\n",
       " 'u5.test',\n",
       " 'ua.base',\n",
       " 'ua.test',\n",
       " 'ub.base',\n",
       " 'ub.test']"
      ]
     },
     "execution_count": 10,
     "metadata": {},
     "output_type": "execute_result"
    }
   ],
   "source": [
    "N_USERS = 943\n",
    "N_ITEMS = 1682\n",
    "data_interim_dir = '../data/interim/'\n",
    "data_filenames = [f'u{t}.{split}' for t in ['1', '2', '3', '4', '5', 'a', 'b'] for split in ['base', 'test']]\n",
    "data_filenames"
   ]
  },
  {
   "cell_type": "code",
   "execution_count": 43,
   "metadata": {},
   "outputs": [
    {
     "data": {
      "text/plain": [
       "dict_keys(['u1', 'u2', 'u3', 'u4', 'u5', 'ua', 'ub'])"
      ]
     },
     "execution_count": 43,
     "metadata": {},
     "output_type": "execute_result"
    }
   ],
   "source": [
    "import pickle\n",
    "\n",
    "\n",
    "data = {}\n",
    "for i in range(0, len(data_filenames), 2):\n",
    "    base_filename, test_filename = data_filenames[i:i+2]\n",
    "    data_title = base_filename.split('.')[0]\n",
    "    with open(data_interim_dir + base_filename + '.pickle', 'rb') as base:\n",
    "        with open(data_interim_dir + test_filename + '.pickle', 'rb') as test:\n",
    "            with open(data_interim_dir + test_filename + '.df.pickle', 'rb') as base_df:\n",
    "                with open(data_interim_dir + test_filename + '.df.pickle', 'rb') as test_df:\n",
    "                    data[data_title] = (pickle.load(base), pickle.load(test), pickle.load(base_df), pickle.load(test_df))\n",
    "\n",
    "data.keys()"
   ]
  },
  {
   "cell_type": "markdown",
   "metadata": {},
   "source": [
    "## Fit-recommend-eval"
   ]
  },
  {
   "cell_type": "markdown",
   "metadata": {},
   "source": [
    "For $k=10$ recommendation per user, I fit models (Random, Popular, PureSVD, ImplicitItemKNN) on each train test split just for the sake of interest. I evaluate models on 2 ranking metrics (MAP, NDCG) and 1 classification metric (Accuracy)."
   ]
  },
  {
   "cell_type": "markdown",
   "metadata": {},
   "source": [
    "### RandomModel"
   ]
  },
  {
   "cell_type": "code",
   "execution_count": 50,
   "metadata": {},
   "outputs": [
    {
     "name": "stdout",
     "output_type": "stream",
     "text": [
      "RandomModel on u1 split\n",
      "MAP:  0.002092676528567473\n",
      "Accuracy:  0.9973511982570806\n",
      "NDCG:  0.030899630188415444\n",
      "\n",
      "RandomModel on u2 split\n",
      "MAP:  0.0023602361921541766\n",
      "Accuracy:  0.9979920367534455\n",
      "NDCG:  0.023438791876433357\n",
      "\n",
      "RandomModel on u3 split\n",
      "MAP:  0.001809859617857784\n",
      "Accuracy:  0.9983629459148446\n",
      "NDCG:  0.014003995209910126\n",
      "\n",
      "RandomModel on u4 split\n",
      "MAP:  0.002396904927536346\n",
      "Accuracy:  0.9984312026002167\n",
      "NDCG:  0.01607806689461031\n",
      "\n",
      "RandomModel on u5 split\n",
      "MAP:  0.0023036107356587806\n",
      "Accuracy:  0.9984380798274002\n",
      "NDCG:  0.016313677910489613\n",
      "\n",
      "RandomModel on ua split\n",
      "MAP:  0.00187875574407918\n",
      "Accuracy:  0.9978903546700646\n",
      "NDCG:  0.005815220932128331\n",
      "\n",
      "RandomModel on ub split\n",
      "MAP:  0.0020093756838189506\n",
      "Accuracy:  0.9978928286677864\n",
      "NDCG:  0.006609109894597713\n",
      "\n"
     ]
    }
   ],
   "source": [
    "from rectools.models import RandomModel\n",
    "from rectools.metrics import NDCG, Accuracy, MAP\n",
    "from rectools import Columns\n",
    "\n",
    "\n",
    "k = 10\n",
    "ndcg = NDCG(k=k, log_base=3)\n",
    "acc = Accuracy(k=k)\n",
    "mmap = MAP(k=k)\n",
    "\n",
    "for name, datasets in data.items():\n",
    "    base, test, base_df, test_df = datasets\n",
    "    model = RandomModel()\n",
    "    model.fit(base)\n",
    "    \n",
    "    recos = model.recommend(\n",
    "        users=base_df[Columns.User].unique(),\n",
    "        dataset=base,\n",
    "        k=10,\n",
    "        filter_viewed=True,\n",
    "    )\n",
    "    print(f'RandomModel on {name} split')\n",
    "    print('MAP: ', mmap.calc(reco=recos, interactions=test_df))\n",
    "    print(\"Accuracy: \", acc.calc(reco=recos, interactions=test_df, catalog=base_df[Columns.Item]))\n",
    "    print(\"NDCG: \", ndcg.calc(reco=recos, interactions=test_df))\n",
    "    print()\n"
   ]
  },
  {
   "cell_type": "markdown",
   "metadata": {},
   "source": [
    "### PopularModel"
   ]
  },
  {
   "cell_type": "code",
   "execution_count": 49,
   "metadata": {},
   "outputs": [
    {
     "name": "stdout",
     "output_type": "stream",
     "text": [
      "PopularModel on u1 split\n",
      "MAP:  0.0515884623370606\n",
      "Accuracy:  0.9976265795206971\n",
      "NDCG:  0.320243894441263\n",
      "\n",
      "PopularModel on u2 split\n",
      "MAP:  0.0565423486642172\n",
      "Accuracy:  0.9982166921898926\n",
      "NDCG:  0.26440298998043166\n",
      "\n",
      "PopularModel on u3 split\n",
      "MAP:  0.05668825595875101\n",
      "Accuracy:  0.9985456846950519\n",
      "NDCG:  0.21313056029600302\n",
      "\n",
      "PopularModel on u4 split\n",
      "MAP:  0.052612425440435574\n",
      "Accuracy:  0.9986019501625135\n",
      "NDCG:  0.19715029155177874\n",
      "\n",
      "PopularModel on u5 split\n",
      "MAP:  0.05432205905899851\n",
      "Accuracy:  0.9985983818770227\n",
      "NDCG:  0.18935083809348333\n",
      "\n",
      "PopularModel on ua split\n",
      "MAP:  0.05441616590078944\n",
      "Accuracy:  0.998136404988929\n",
      "NDCG:  0.13295180383112556\n",
      "\n",
      "PopularModel on ub split\n",
      "MAP:  0.05081759497719201\n",
      "Accuracy:  0.9981262840891585\n",
      "NDCG:  0.12660211783861397\n",
      "\n"
     ]
    }
   ],
   "source": [
    "from rectools.models import PopularModel\n",
    "from rectools.metrics import NDCG, Accuracy, MAP\n",
    "from rectools import Columns\n",
    "\n",
    "\n",
    "k = 10\n",
    "ndcg = NDCG(k=k, log_base=3)\n",
    "acc = Accuracy(k=k)\n",
    "mmap = MAP(k=k)\n",
    "\n",
    "for name, datasets in data.items():\n",
    "    base, test, base_df, test_df = datasets\n",
    "    model = PopularModel()\n",
    "    model.fit(base)\n",
    "    \n",
    "    recos = model.recommend(\n",
    "        users=base_df[Columns.User].unique(),\n",
    "        dataset=base,\n",
    "        k=10,\n",
    "        filter_viewed=True,\n",
    "    )\n",
    "    print(f'PopularModel on {name} split')\n",
    "    print('MAP: ', mmap.calc(reco=recos, interactions=test_df))\n",
    "    print(\"Accuracy: \", acc.calc(reco=recos, interactions=test_df, catalog=base_df[Columns.Item]))\n",
    "    print(\"NDCG: \", ndcg.calc(reco=recos, interactions=test_df))\n",
    "    print()\n"
   ]
  },
  {
   "cell_type": "markdown",
   "metadata": {},
   "source": [
    "### PureSVDModel"
   ]
  },
  {
   "cell_type": "code",
   "execution_count": 48,
   "metadata": {},
   "outputs": [
    {
     "name": "stdout",
     "output_type": "stream",
     "text": [
      "PureSVDModel on u1 split\n",
      "MAP:  0.12490142060896098\n",
      "Accuracy:  0.9978093681917211\n",
      "NDCG:  0.528658583680511\n",
      "\n",
      "PureSVDModel on u2 split\n",
      "MAP:  0.13517649746661312\n",
      "Accuracy:  0.9983811638591118\n",
      "NDCG:  0.449230375655791\n",
      "\n",
      "PureSVDModel on u3 split\n",
      "MAP:  0.12955316430597238\n",
      "Accuracy:  0.9986985040276178\n",
      "NDCG:  0.3790986770716973\n",
      "\n",
      "PureSVDModel on u4 split\n",
      "MAP:  0.13722123371125586\n",
      "Accuracy:  0.9987525460455037\n",
      "NDCG:  0.37142655587903717\n",
      "\n",
      "PureSVDModel on u5 split\n",
      "MAP:  0.13531015524298964\n",
      "Accuracy:  0.9987376483279395\n",
      "NDCG:  0.35023119831861615\n",
      "\n",
      "PureSVDModel on ua split\n",
      "MAP:  0.1495090811156559\n",
      "Accuracy:  0.9983941505697503\n",
      "NDCG:  0.2851740747159939\n",
      "\n",
      "PureSVDModel on ub split\n",
      "MAP:  0.14198854550657308\n",
      "Accuracy:  0.9983703102280689\n",
      "NDCG:  0.27318164556889707\n",
      "\n"
     ]
    }
   ],
   "source": [
    "from rectools.models import PureSVDModel\n",
    "from rectools.metrics import NDCG, Accuracy, MAP\n",
    "from rectools import Columns\n",
    "\n",
    "\n",
    "k = 10\n",
    "ndcg = NDCG(k=k, log_base=3)\n",
    "acc = Accuracy(k=k)\n",
    "mmap = MAP(k=k)\n",
    "\n",
    "for name, datasets in data.items():\n",
    "    base, test, base_df, test_df = datasets\n",
    "    model = PureSVDModel()\n",
    "    model.fit(base)\n",
    "    \n",
    "    recos = model.recommend(\n",
    "        users=base_df[Columns.User].unique(),\n",
    "        dataset=base,\n",
    "        k=10,\n",
    "        filter_viewed=True,\n",
    "    )\n",
    "    print(f'PureSVDModel on {name} split')\n",
    "    print('MAP: ', mmap.calc(reco=recos, interactions=test_df))\n",
    "    print(\"Accuracy: \", acc.calc(reco=recos, interactions=test_df, catalog=base_df[Columns.Item]))\n",
    "    print(\"NDCG: \", ndcg.calc(reco=recos, interactions=test_df))\n",
    "    print()\n"
   ]
  },
  {
   "cell_type": "markdown",
   "metadata": {},
   "source": [
    "### ImplicitItemKNN"
   ]
  },
  {
   "cell_type": "code",
   "execution_count": 57,
   "metadata": {},
   "outputs": [
    {
     "name": "stdout",
     "output_type": "stream",
     "text": [
      "ImplicitItemKNN on u1 split\n",
      "MAP:  0.11095594568471655\n",
      "Accuracy:  0.9977684095860565\n",
      "NDCG:  0.47923027186404077\n",
      "\n",
      "ImplicitItemKNN on u2 split\n",
      "MAP:  0.12252065805277586\n",
      "Accuracy:  0.9983509954058192\n",
      "NDCG:  0.41468383065947245\n",
      "\n",
      "ImplicitItemKNN on u3 split\n",
      "MAP:  0.1161651980713301\n",
      "Accuracy:  0.9986631760644419\n",
      "NDCG:  0.3429152253413324\n",
      "\n",
      "ImplicitItemKNN on u4 split\n",
      "MAP:  0.12060826766232134\n",
      "Accuracy:  0.998718959913326\n",
      "NDCG:  0.3362310065152404\n",
      "\n",
      "ImplicitItemKNN on u5 split\n",
      "MAP:  0.12056638664275297\n",
      "Accuracy:  0.9987145631067961\n",
      "NDCG:  0.32096577240299784\n",
      "\n",
      "ImplicitItemKNN on ua split\n",
      "MAP:  0.13110555639717889\n",
      "Accuracy:  0.9983442207975495\n",
      "NDCG:  0.25640336994380786\n",
      "\n",
      "ImplicitItemKNN on ub split\n",
      "MAP:  0.12053935430658654\n",
      "Accuracy:  0.9983271277223814\n",
      "NDCG:  0.24071597752491747\n",
      "\n"
     ]
    }
   ],
   "source": [
    "from rectools.models import ImplicitItemKNNWrapperModel\n",
    "from implicit.nearest_neighbours import TFIDFRecommender, CosineRecommender, BM25Recommender\n",
    "from rectools.metrics import NDCG, Accuracy, MAP\n",
    "from rectools import Columns\n",
    "\n",
    "\n",
    "k = 10\n",
    "ndcg = NDCG(k=k, log_base=3)\n",
    "acc = Accuracy(k=k)\n",
    "mmap = MAP(k=k)\n",
    "\n",
    "for name, datasets in data.items():\n",
    "    base, test, base_df, test_df = datasets\n",
    "    model = ImplicitItemKNNWrapperModel(\n",
    "                model=TFIDFRecommender(K=10)\n",
    "                )\n",
    "\n",
    "    model.fit(base)\n",
    "    \n",
    "    recos = model.recommend(\n",
    "        users=base_df[Columns.User].unique(),\n",
    "        dataset=base,\n",
    "        k=10,\n",
    "        filter_viewed=True,\n",
    "    )\n",
    "    print(f'ImplicitItemKNN on {name} split')\n",
    "    print('MAP: ', mmap.calc(reco=recos, interactions=test_df))\n",
    "    print(\"Accuracy: \", acc.calc(reco=recos, interactions=test_df, catalog=base_df[Columns.Item]))\n",
    "    print(\"NDCG: \", ndcg.calc(reco=recos, interactions=test_df))\n",
    "    print()\n"
   ]
  },
  {
   "cell_type": "code",
   "execution_count": null,
   "metadata": {},
   "outputs": [],
   "source": []
  }
 ],
 "metadata": {
  "kernelspec": {
   "display_name": "py310",
   "language": "python",
   "name": "python3"
  },
  "language_info": {
   "codemirror_mode": {
    "name": "ipython",
    "version": 3
   },
   "file_extension": ".py",
   "mimetype": "text/x-python",
   "name": "python",
   "nbconvert_exporter": "python",
   "pygments_lexer": "ipython3",
   "version": "3.10.13"
  }
 },
 "nbformat": 4,
 "nbformat_minor": 2
}
